{
 "cells": [
  {
   "cell_type": "code",
   "execution_count": 1,
   "metadata": {},
   "outputs": [
    {
     "name": "stdout",
     "output_type": "stream",
     "text": [
      "Jupyter environment detected. Enabling Open3D WebVisualizer.\n",
      "[Open3D INFO] WebRTC GUI backend enabled.\n",
      "[Open3D INFO] WebRTCWindowSystem: HTTP handshake server disabled.\n"
     ]
    }
   ],
   "source": [
    "import open3d as o3d\n",
    "import numpy as np"
   ]
  },
  {
   "cell_type": "code",
   "execution_count": null,
   "metadata": {},
   "outputs": [],
   "source": [
    "\n",
    "# 创建坐标框架\n",
    "axis_pcd = o3d.geometry.TriangleMesh.create_coordinate_frame(size=20.0, origin=np.array([0, 0, 0]))\n"
   ]
  },
  {
   "cell_type": "code",
   "execution_count": null,
   "metadata": {},
   "outputs": [],
   "source": []
  },
  {
   "cell_type": "code",
   "execution_count": null,
   "metadata": {},
   "outputs": [],
   "source": []
  },
  {
   "cell_type": "code",
   "execution_count": 5,
   "metadata": {},
   "outputs": [],
   "source": [
    "def extract_points_and_compute_centroid(vertices, target_z, tolerance):\n",
    "    \"\"\"\n",
    "    提取 z 坐标接近 target_z 的点集，计算质心，并可视化点集和质心。\n",
    "    \n",
    "    参数:\n",
    "        vertices: 点集数组，形状为 (N, 3)，每一行是一个点的 (x, y, z) 坐标。\n",
    "        target_z: 目标 z 值。\n",
    "        tolerance: 容忍度范围，筛选 z 坐标在 [target_z - tolerance, target_z + tolerance] 内的点。\n",
    "    \n",
    "    返回:\n",
    "        centroid: 质心坐标，形状为 (3,) 的数组，表示 (x, y, z) 坐标。\n",
    "    \"\"\"\n",
    "    # 提取 z 坐标接近 target_z 的点\n",
    "    z_near_target = vertices[\n",
    "        (vertices[:, 2] >= target_z - tolerance) & \n",
    "        (vertices[:, 2] <= target_z + tolerance)\n",
    "    ]\n",
    "\n",
    "    # 计算质心\n",
    "    centroid = np.mean(z_near_target, axis=0)  # 对每一列求平均值，得到质心的 (x, y, z) 坐标\n",
    "    \n",
    "    # 可视化\n",
    "    # 创建点云对象\n",
    "    point_cloud = o3d.geometry.PointCloud()\n",
    "    point_cloud.points = o3d.utility.Vector3dVector(z_near_target)  # 设置点云的点\n",
    "    point_cloud.paint_uniform_color([0, 1, 0])  # 设置点云颜色为绿色\n",
    "    \n",
    "    # 创建质心点\n",
    "    centroid_point = o3d.geometry.TriangleMesh.create_sphere(radius=0.1)  # 创建一个球体表示质心\n",
    "    centroid_point.translate(centroid)  # 将球体移动到质心位置\n",
    "    centroid_point.paint_uniform_color([1, 0, 0])  # 设置质心颜色为红色\n",
    "    \n",
    "    \n",
    "    # 可视化点云和质心\n",
    "    o3d.visualization.draw_geometries([point_cloud, centroid_point])\n",
    "    \n",
    "    return centroid\n",
    "\n"
   ]
  },
  {
   "cell_type": "code",
   "execution_count": null,
   "metadata": {},
   "outputs": [],
   "source": [
    "# import numpy as np\n",
    "# import open3d as o3d\n",
    "\n",
    "# def extract_points_and_compute_centroid(vertices, target_z, tolerance):\n",
    "#     # 提取 z 坐标接近 target_z 的点\n",
    "#     z_near_target = vertices[\n",
    "#         (vertices[:, 2] >= target_z - tolerance) & \n",
    "#         (vertices[:, 2] <= target_z + tolerance)\n",
    "#     ]\n",
    "    \n",
    "#     # 计算质心\n",
    "#     centroid = np.mean(z_near_target, axis=0)  # 对每一列求平均值，得到质心的 (x, y, z) 坐标\n",
    "    \n",
    "#     # 可视化\n",
    "#     # 创建点云对象\n",
    "#     point_cloud = o3d.geometry.PointCloud()\n",
    "#     point_cloud.points = o3d.utility.Vector3dVector(z_near_target)  # 设置点云的点\n",
    "#     point_cloud.paint_uniform_color([0, 1, 0])  # 设置点云颜色为绿色\n",
    "    \n",
    "#     # 创建质心点\n",
    "#     centroid_point = o3d.geometry.TriangleMesh.create_sphere(radius=0.1)  # 创建一个球体表示质心\n",
    "#     centroid_point.translate(centroid)  # 将球体移动到质心位置\n",
    "#     centroid_point.paint_uniform_color([1, 0, 0])  # 设置质心颜色为红色\n",
    "    \n",
    "#     # 创建闭合曲线\n",
    "#     # 计算点的排序，假设点集在某个平面上，按照方位角排序\n",
    "#     angles = np.arctan2(z_near_target[:, 1] - centroid[1], z_near_target[:, 0] - centroid[0])\n",
    "#     sorted_indices = np.argsort(angles)\n",
    "#     sorted_points = z_near_target[sorted_indices]\n",
    "    \n",
    "#     # 创建 LineSet 对象\n",
    "#     lines = np.array([[i, (i+1)%len(sorted_points)] for i in range(len(sorted_points))])\n",
    "#     line_set = o3d.geometry.LineSet(\n",
    "#         points=o3d.utility.Vector3dVector(sorted_points),\n",
    "#         lines=o3d.utility.Vector2iVector(lines)\n",
    "#     )\n",
    "#     line_set.paint_uniform_color([0, 0, 1])  # 设置线条颜色为蓝色\n",
    "    \n",
    "#     # 可视化点云、质心和闭合曲线\n",
    "#     o3d.visualization.draw_geometries([point_cloud, centroid_point, line_set])\n",
    "    \n",
    "#     return centroid"
   ]
  },
  {
   "cell_type": "code",
   "execution_count": null,
   "metadata": {},
   "outputs": [],
   "source": [
    "target_z = 3.0\n",
    "tolerance = 0.5\n",
    "centroid1= extract_points_and_compute_centroid(vertices_teeth1, target_z, tolerance)\n",
    "print(\"质心坐标:\", centroid1)"
   ]
  },
  {
   "cell_type": "code",
   "execution_count": null,
   "metadata": {},
   "outputs": [
    {
     "name": "stdout",
     "output_type": "stream",
     "text": [
      "current_z: -13.582796179939626\n",
      "在 z = -13.582796179939626 处的质心坐标: [ -4.90256916 -31.0219131  -13.57846029]\n",
      "在 z = -13.082796179939626 处的质心坐标: [ -4.40521518 -31.24307366 -13.0900352 ]\n",
      "在 z = -12.582796179939626 处的质心坐标: [ -4.38184245 -31.31983347 -12.57355227]\n",
      "在 z = -12.082796179939626 处的质心坐标: [ -4.13376424 -31.46202322 -12.07413716]\n",
      "在 z = -11.582796179939626 处的质心坐标: [ -4.28096207 -31.69396867 -11.56962736]\n",
      "在 z = -11.082796179939626 处的质心坐标: [ -4.39058524 -32.29052729 -11.10797489]\n",
      "在 z = -10.582796179939626 处的质心坐标: [ -4.23027749 -33.00707692 -10.58182069]\n",
      "所有质心坐标:\n",
      "层次 1: [ -4.90256916 -31.0219131  -13.57846029]\n",
      "层次 2: [ -4.40521518 -31.24307366 -13.0900352 ]\n",
      "层次 3: [ -4.38184245 -31.31983347 -12.57355227]\n",
      "层次 4: [ -4.13376424 -31.46202322 -12.07413716]\n",
      "层次 5: [ -4.28096207 -31.69396867 -11.56962736]\n",
      "层次 6: [ -4.39058524 -32.29052729 -11.10797489]\n",
      "层次 7: [ -4.23027749 -33.00707692 -10.58182069]\n"
     ]
    }
   ],
   "source": [
    "import numpy as np\n",
    "import open3d as o3d\n",
    "# 读取网格\n",
    "file_path1 = r\"D:\\wzpdata\\teeth4\\source\\teeth5.ply\"\n",
    "mesh_teeth1 = o3d.io.read_triangle_mesh(file_path1)\n",
    "mesh_teeth1.compute_vertex_normals()                    \n",
    "mesh_teeth1.paint_uniform_color([0.1, 0.7, 0.3])\n",
    "# 提取mesh的点集\n",
    "vertices_teeth1 = np.asarray(mesh_teeth1.vertices)\n",
    "\n",
    "\n",
    "# 计算质心\n",
    "centroid = np.mean(vertices_teeth1, axis=0)\n",
    "# 反转每个顶点相对于质心的位置\n",
    "\n",
    "\n",
    "#z_coords = vertices_teeth2[:, 2]  # 提取所有点的 z 坐标\n",
    "# z_max = np.max(z_coords)  # 获取 z 坐标的最大值\n",
    "# z_min = np.min(z_coords)  # 获取 z 坐标的最小值\n",
    "\n",
    "\n",
    "# 定义步长和容忍度\n",
    "step_size = 0.5  # 每次遍历的 z 坐标步长\n",
    "tolerance = 0.3  # 容忍度范围\n",
    "\n",
    "# 初始化一个列表来存储每一层的质心坐标\n",
    "centroids = []\n",
    "step_num =  6\n",
    "# 在 z_min 和 z_max 之间循环遍历\n",
    "z_min = centroid[2]- (step_num/2)*step_size\n",
    "z_max = centroid[2]+ (step_num/2)*step_size\n",
    "\n",
    "current_z = z_min\n",
    "print(f\"current_z: {current_z}\")\n",
    "\n",
    "while current_z <= z_max:  \n",
    "    centroid = extract_points_and_compute_centroid(vertices_teeth1, current_z, tolerance)\n",
    "    centroids.append(centroid)\n",
    "    print(f\"在 z = {current_z} 处的质心坐标: {centroid}\")\n",
    "    current_z += step_size\n",
    "\n",
    "# 打印所有质心坐标\n",
    "print(\"所有质心坐标:\")\n",
    "for i, centroid in enumerate(centroids):\n",
    "    print(f\"层次 {i + 1}: {centroid}\")"
   ]
  },
  {
   "cell_type": "code",
   "execution_count": 100,
   "metadata": {},
   "outputs": [],
   "source": [
    "\n",
    "# 创建点云对象表示质心\n",
    "centroid_point_cloud = o3d.geometry.PointCloud()\n",
    "centroid_point_cloud.points = o3d.utility.Vector3dVector(centroids)  # 设置点云的点\n",
    "centroid_point_cloud.paint_uniform_color([1, 0, 0])  # 设置质心颜色为红色\n",
    "\n",
    "# 可视化 mesh 和质心点\n",
    "o3d.visualization.draw_geometries([mesh_teeth1, centroid_point_cloud])"
   ]
  },
  {
   "cell_type": "code",
   "execution_count": 101,
   "metadata": {},
   "outputs": [],
   "source": [
    "import numpy as np\n",
    "import open3d as o3d\n",
    "\n",
    "# 拟合直线\n",
    "# 使用最小二乘法拟合直线\n",
    "centroid_mean = np.mean(centroids, axis=0)  # 质心点的均值点\n",
    "centroids_centered = centroids - centroid_mean  # 中心化数据\n",
    "U, S, VT = np.linalg.svd(centroids_centered)  # 奇异值分解\n",
    "direction_vector = VT[0]  # 主方向向量（直线的方向）\n",
    "\n",
    "# 直线的参数方程：P(t) = P0 + t * direction_vector\n",
    "# P0 是质心点的均值点\n",
    "P0 = centroid_mean\n",
    "\n",
    "# 生成拟合直线上的点\n",
    "t_values = np.linspace(-10, 10, 100)  # 参数 t 的范围\n",
    "line_points = np.array([P0 + t * direction_vector for t in t_values])\n",
    "\n",
    "# 创建点云对象表示原始质心点\n",
    "centroid_point_cloud = o3d.geometry.PointCloud()\n",
    "centroid_point_cloud.points = o3d.utility.Vector3dVector(centroids)\n",
    "centroid_point_cloud.paint_uniform_color([1, 0, 0])  # 设置质心颜色为红色\n",
    "\n",
    "# 创建线集对象表示拟合的直线\n",
    "line_set = o3d.geometry.LineSet()\n",
    "line_set.points = o3d.utility.Vector3dVector(line_points)\n",
    "lines = np.array([[i, i + 1] for i in range(len(line_points) - 1)])  # 连接点成线\n",
    "line_set.lines = o3d.utility.Vector2iVector(lines)\n",
    "line_set.paint_uniform_color([0, 0, 1])  # 设置直线颜色为绿色\n",
    "\n",
    "# 可视化原始质心点和拟合直线\n",
    "o3d.visualization.draw_geometries([centroid_point_cloud, line_set,mesh_teeth1])"
   ]
  },
  {
   "cell_type": "code",
   "execution_count": 88,
   "metadata": {},
   "outputs": [],
   "source": [
    "from sklearn.linear_model import LinearRegression\n",
    "\n",
    "def fit_line(points, extension_factor=5):\n",
    "    if points.size == 0:\n",
    "        raise ValueError(\"No valid points provided for line fitting.\")\n",
    "    \n",
    "    reg = LinearRegression()\n",
    "    reg.fit(points[:, 1].reshape(-1, 1), points[:, [0, 2]])\n",
    "    \n",
    "    min_y, max_y = np.min(points[:, 1]), np.max(points[:, 1])\n",
    "    extend_length = (max_y - min_y) * extension_factor\n",
    "    extended_min_y = min_y - extend_length\n",
    "    extended_max_y = max_y + extend_length\n",
    "    \n",
    "    y_vals = np.linspace(extended_min_y, extended_max_y, 100)\n",
    "    xz_vals = reg.predict(y_vals.reshape(-1, 1))\n",
    "    return np.column_stack((xz_vals[:, 0], y_vals, xz_vals[:, 1]))"
   ]
  },
  {
   "cell_type": "code",
   "execution_count": 89,
   "metadata": {},
   "outputs": [],
   "source": [
    "\n",
    "fit_line_points = fit_line(np.array(centroids), extension_factor=2)"
   ]
  },
  {
   "cell_type": "code",
   "execution_count": 90,
   "metadata": {},
   "outputs": [],
   "source": [
    "point_cloud = o3d.geometry.PointCloud()\n",
    "point_cloud.points = o3d.utility.Vector3dVector(fit_line_points)  # 设置点\n",
    "\n",
    "o3d.visualization.draw_geometries([mesh_teeth1, point_cloud])"
   ]
  },
  {
   "cell_type": "code",
   "execution_count": null,
   "metadata": {},
   "outputs": [],
   "source": []
  },
  {
   "cell_type": "code",
   "execution_count": null,
   "metadata": {},
   "outputs": [],
   "source": []
  },
  {
   "cell_type": "code",
   "execution_count": null,
   "metadata": {},
   "outputs": [],
   "source": []
  },
  {
   "cell_type": "code",
   "execution_count": null,
   "metadata": {},
   "outputs": [],
   "source": []
  },
  {
   "cell_type": "code",
   "execution_count": null,
   "metadata": {},
   "outputs": [],
   "source": []
  },
  {
   "cell_type": "code",
   "execution_count": null,
   "metadata": {},
   "outputs": [],
   "source": []
  }
 ],
 "metadata": {
  "kernelspec": {
   "display_name": "gpu3.11",
   "language": "python",
   "name": "python3"
  },
  "language_info": {
   "codemirror_mode": {
    "name": "ipython",
    "version": 3
   },
   "file_extension": ".py",
   "mimetype": "text/x-python",
   "name": "python",
   "nbconvert_exporter": "python",
   "pygments_lexer": "ipython3",
   "version": "3.11.5"
  }
 },
 "nbformat": 4,
 "nbformat_minor": 2
}
